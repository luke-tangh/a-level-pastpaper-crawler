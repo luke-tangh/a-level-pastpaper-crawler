{
 "cells": [
  {
   "cell_type": "markdown",
   "id": "62da7f1e",
   "metadata": {},
   "source": [
    "# PASTPAPER DOWNLOADER"
   ]
  },
  {
   "cell_type": "markdown",
   "id": "28812392",
   "metadata": {},
   "source": [
    "1.前置需求 Import Libraries"
   ]
  },
  {
   "cell_type": "code",
   "execution_count": 32,
   "id": "902250ab",
   "metadata": {},
   "outputs": [],
   "source": [
    "import requests\n",
    "import time\n",
    "import os\n",
    "import re"
   ]
  },
  {
   "cell_type": "markdown",
   "id": "74fbba16",
   "metadata": {},
   "source": [
    "2.函数定义 Functions"
   ]
  },
  {
   "cell_type": "code",
   "execution_count": 33,
   "id": "70c440cb",
   "metadata": {},
   "outputs": [],
   "source": [
    "# 爬取延迟设置 Crawl Delay\n",
    "def crawl_delay():\n",
    "    delay = 10\n",
    "    print('pause for crawl delay...({}s)'.format(delay))\n",
    "    time.sleep(delay)"
   ]
  },
  {
   "cell_type": "code",
   "execution_count": 34,
   "id": "07e30c83",
   "metadata": {},
   "outputs": [],
   "source": [
    "# 获取网站HTML Get HTML\n",
    "def get_html(url):\n",
    "    try:\n",
    "        r = requests.get(url, timeout=30)\n",
    "        r.raise_for_status()\n",
    "        r.encoding = r.apparent_encoding\n",
    "        return r\n",
    "    except requests.HTTPError:\n",
    "        return \"HTTPError\""
   ]
  },
  {
   "cell_type": "code",
   "execution_count": 35,
   "id": "e1479120",
   "metadata": {},
   "outputs": [],
   "source": [
    "# 获取目录下pdf文件名 Get pdf name\n",
    "def get_pdf_name(url, subject_code):\n",
    "    web = get_html(url)\n",
    "    web_text = web.text\n",
    "    pdf_list = re.findall(r'('+str(subject_code)+'.*?.pdf)', web_text)\n",
    "    pdf_set = set()\n",
    "    print(\"list of download:\")\n",
    "    for i in range(len(pdf_list)):\n",
    "        if len(pdf_list[i]) < 20:\n",
    "            pdf_set.add(pdf_list[i])\n",
    "            print(pdf_list[i])\n",
    "    return pdf_set"
   ]
  },
  {
   "cell_type": "markdown",
   "id": "867123dc",
   "metadata": {},
   "source": [
    "3.参数设置 Parameters"
   ]
  },
  {
   "cell_type": "code",
   "execution_count": null,
   "id": "0bf53263",
   "metadata": {},
   "outputs": [],
   "source": [
    "# download information\n",
    "year = '2015'\n",
    "subject_code = '9608'\n",
    "\n",
    "# reconnect times for network errors\n",
    "trial_max = 5\n",
    "\n",
    "# modify savepath\n",
    "save_path = './{}/{}/'.format(subject_code, year)\n",
    "\n",
    "subject_dict = {\n",
    "\"9702\" : \"Physics\",\\\n",
    "\"9701\" : \"Chemistry\",\\\n",
    "\"9700\" : \"Biology\", \\\n",
    "\"9696\" : \"Geography\",\\\n",
    "\"9706\" : \"History\",\\\n",
    "\"9489\" : \"Economics\",\\\n",
    "\"9093\" : \"English\",\\\n",
    "\"9710\" : \"Chinese\",\\\n",
    "\"9709\" : \"Mathematics\",\\\n",
    "\"9231\" : \"Mathematics%20-%20Further%20\",\\\n",
    "\"9608\" : \"Computer%20Science%20(for%20final%20examination%20in%202021)\",\\\n",
    "\"9618\" : \"Computer%20Science%20(for%20first%20examination%20in%202021)\"}\n"
   ]
  },
  {
   "cell_type": "markdown",
   "id": "8c736c28",
   "metadata": {},
   "source": [
    "4.主程序 Main Program"
   ]
  },
  {
   "cell_type": "code",
   "execution_count": null,
   "id": "aa93d213",
   "metadata": {},
   "outputs": [],
   "source": [
    "subject_name = subject_dict[subject_code]\n",
    "subject = '{}%20({})'.format(subject_name,subject_code)\n",
    "url = \"https://papers.gceguide.com/A%20Levels/{}/{}/\".format(subject,year)\n",
    "print(\"target url: {}\".format(url))\n",
    "\n",
    "r = requests.get(url, timeout=30)\n",
    "if r.status_code != 200:\n",
    "    print('connection failed, double check the parameters')\n",
    "else:\n",
    "    print('successfully connected')\n",
    "\n",
    "pdf_set = get_pdf_name(url, subject_code)\n",
    "count = 1\n",
    "for pdf in pdf_set:\n",
    "    trial = 1\n",
    "    print(\"=\"*20)\n",
    "    print(pdf)\n",
    "    print(count, \"/\", len(pdf_set))\n",
    "    print(\"=\"*20)\n",
    "    pdf_url = url + pdf\n",
    "    pdf_name = save_path + pdf\n",
    "    if not os.path.exists(save_path):\n",
    "        os.makedirs(save_path)\n",
    "    if os.path.exists(pdf_name):\n",
    "        print(\"The file has already existed\")\n",
    "    else:\n",
    "        print(\"Downloading...\")\n",
    "        pdf_content = get_html(pdf_url)\n",
    "        while pdf_content == \"HTTPError\":\n",
    "            crawl_delay()\n",
    "            print(\"Download failed. Retrying...{}/{}\".format(trial, trial_max))\n",
    "            pdf_content = get_html(pdf_url)\n",
    "            if trial >= trial_max:\n",
    "                print(\"Download failed. Automatically switch to next item.\")\n",
    "                continue\n",
    "            trial += 1\n",
    "        pdf_content = pdf_content.content\n",
    "        with open(pdf_name, \"wb\") as f:\n",
    "            f.write(pdf_content)\n",
    "        print(\"successfully downloaded\")\n",
    "        crawl_delay()\n",
    "    count += 1\n",
    "print(\"Download completed {}/{}\".format(count-1, len(pdf_set)))\n",
    "\n",
    "os.system('pause')\n"
   ]
  }
 ],
 "metadata": {
  "kernelspec": {
   "display_name": "Python 3 (ipykernel)",
   "language": "python",
   "name": "python3"
  },
  "language_info": {
   "codemirror_mode": {
    "name": "ipython",
    "version": 3
   },
   "file_extension": ".py",
   "mimetype": "text/x-python",
   "name": "python",
   "nbconvert_exporter": "python",
   "pygments_lexer": "ipython3",
   "version": "3.10.0"
  }
 },
 "nbformat": 4,
 "nbformat_minor": 5
}
